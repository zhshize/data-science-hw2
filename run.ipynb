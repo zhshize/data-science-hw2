{
 "cells": [
  {
   "cell_type": "code",
   "execution_count": null,
   "id": "c19a2e08-beb0-4744-891f-7b62ae8d5132",
   "metadata": {},
   "outputs": [],
   "source": [
    "! mlflow server -p 5050 --host 0.0.0.0"
   ]
  },
  {
   "cell_type": "code",
   "execution_count": 1,
   "id": "cddf401c-6368-474b-b9e7-4df70c5ad34f",
   "metadata": {},
   "outputs": [
    {
     "name": "stdout",
     "output_type": "stream",
     "text": [
      "INFO: 'iris' does not exist. Creating a new experiment\n",
      "  mse: 0.088897\n",
      "file:///home/jovyan/mlruns/1/3de981d84bb84f4699a8ef61a14e8781/artifacts\n",
      "runID: b2a866eaa2de4597b222f972000b57aa\n"
     ]
    }
   ],
   "source": [
    "import mlflow\n",
    "import mlflow.sklearn\n",
    "from sklearn.ensemble import RandomForestRegressor\n",
    "from sklearn.metrics import mean_squared_error\n",
    "from sklearn.model_selection import train_test_split\n",
    "from sklearn import datasets\n",
    "\n",
    "# uncomment portion below if using a remote mlflow instance\n",
    "# mlflow.set_tracking_uri(\"http://your-server:5000\")\n",
    "mlflow.set_experiment(\"iris\") # creates an experiment if it doesn't exist\n",
    "\n",
    "iris = datasets.load_iris()\n",
    "x = iris.data[:, 2:]\n",
    "y = iris.target\n",
    "X_train, X_test, y_train, y_test = train_test_split(x, y, test_size=0.2, random_state=7)\n",
    "\n",
    "with mlflow.start_run(run_name=\"Iris RF Experiment\") as run:\n",
    "    \n",
    "    # add parameters for tuning\n",
    "    num_estimators = 100\n",
    "    mlflow.log_param(\"num_estimators\",num_estimators)\n",
    "\n",
    "    # train the model\n",
    "    rf = RandomForestRegressor(n_estimators=num_estimators)\n",
    "    rf.fit(X_train, y_train)\n",
    "    predictions = rf.predict(X_test)\n",
    "\n",
    "    # save the model artifact for deployment\n",
    "    # this will save the model locally or to the S3 bucket if using a server\n",
    "    mlflow.sklearn.log_model(rf, \"random-forest-model\")\n",
    "\n",
    "    # log model performance \n",
    "    mse = mean_squared_error(y_test, predictions)\n",
    "    mlflow.log_metric(\"mse\", mse)\n",
    "    print(\"  mse: %f\" % mse)\n",
    "\n",
    "    run_id = run.info.run_uuid\n",
    "    experiment_id = run.info.experiment_id\n",
    "    mlflow.end_run()\n",
    "    print(mlflow.get_artifact_uri())\n",
    "    print(\"runID: %s\" % run_id)"
   ]
  }
 ],
 "metadata": {
  "kernelspec": {
   "display_name": "Python 3",
   "language": "python",
   "name": "python3"
  },
  "language_info": {
   "codemirror_mode": {
    "name": "ipython",
    "version": 3
   },
   "file_extension": ".py",
   "mimetype": "text/x-python",
   "name": "python",
   "nbconvert_exporter": "python",
   "pygments_lexer": "ipython3",
   "version": "3.9.2"
  }
 },
 "nbformat": 4,
 "nbformat_minor": 5
}
